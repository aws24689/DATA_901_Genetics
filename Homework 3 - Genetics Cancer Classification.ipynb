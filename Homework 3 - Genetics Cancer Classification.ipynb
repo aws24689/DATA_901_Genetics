{
 "cells": [
  {
   "cell_type": "markdown",
   "metadata": {
    "extensions": {
     "jupyter_dashboards": {
      "version": 1,
      "views": {
       "grid_default": {},
       "report_default": {
        "hidden": false
       }
      }
     }
    }
   },
   "source": [
    "# Homework 3 - Genetics\n",
    "DATA 901 - Austin Smith"
   ]
  },
  {
   "cell_type": "code",
   "execution_count": 162,
   "metadata": {
    "collapsed": true,
    "extensions": {
     "jupyter_dashboards": {
      "version": 1,
      "views": {
       "grid_default": {
        "hidden": true
       },
       "report_default": {
        "hidden": true
       }
      }
     }
    }
   },
   "outputs": [],
   "source": [
    "import pandas as pd\n",
    "import numpy as np\n",
    "from sklearn.cluster import KMeans\n",
    "from sklearn.decomposition import PCA\n",
    "from sklearn.model_selection import LeaveOneOut\n",
    "from sklearn.model_selection import train_test_split\n",
    "from sklearn.model_selection import cross_val_score\n",
    "from sklearn.tree import DecisionTreeClassifier\n",
    "from sklearn.linear_model import LogisticRegression\n",
    "from sklearn.metrics import confusion_matrix\n",
    "from sklearn.ensemble import AdaBoostClassifier\n",
    "from sklearn.linear_model import LassoCV\n",
    "from sklearn.linear_model import RidgeClassifier\n",
    "from sklearn.metrics import accuracy_score\n",
    "from sklearn.linear_model import ElasticNetCV\n",
    "import matplotlib.pyplot as plt\n",
    "from mpl_toolkits.mplot3d import Axes3D\n",
    "%matplotlib inline\n",
    "plt.style.use('ggplot')"
   ]
  },
  {
   "cell_type": "code",
   "execution_count": 2,
   "metadata": {
    "collapsed": true,
    "extensions": {
     "jupyter_dashboards": {
      "version": 1,
      "views": {
       "grid_default": {
        "hidden": true
       },
       "report_default": {
        "hidden": true
       }
      }
     }
    }
   },
   "outputs": [],
   "source": [
    "genes = pd.read_csv('HW3_genes.csv', header = None)\n",
    "genes = genes.T"
   ]
  },
  {
   "cell_type": "markdown",
   "metadata": {
    "extensions": {
     "jupyter_dashboards": {
      "version": 1,
      "views": {
       "grid_default": {
        "col": 0,
        "height": 5,
        "hidden": false,
        "row": 0,
        "width": 12
       },
       "report_default": {
        "hidden": false
       }
      }
     }
    }
   },
   "source": [
    "## Section 1:\n",
    "In this part we use gene expression data from 40 tissue samples. The first twenty samples are from patients with cancer and the other twenty are from patients without. In this data, there are 1,000 columns of gene expressions. Below is the first five rows of the data to get an understanding for what it looks like. The Purpose of this section is to compare machine learning algorithms and their ability to determine whehter or not a patient has cancer from the gene expressions."
   ]
  },
  {
   "cell_type": "code",
   "execution_count": 95,
   "metadata": {
    "collapsed": false,
    "extensions": {
     "jupyter_dashboards": {
      "version": 1,
      "views": {
       "grid_default": {
        "col": 0,
        "height": 8,
        "hidden": false,
        "row": 5,
        "width": 12
       },
       "report_default": {
        "hidden": false
       }
      }
     }
    }
   },
   "outputs": [
    {
     "data": {
      "text/html": [
       "<div>\n",
       "<table border=\"1\" class=\"dataframe\">\n",
       "  <thead>\n",
       "    <tr style=\"text-align: right;\">\n",
       "      <th></th>\n",
       "      <th>0</th>\n",
       "      <th>1</th>\n",
       "      <th>2</th>\n",
       "      <th>3</th>\n",
       "      <th>4</th>\n",
       "      <th>5</th>\n",
       "      <th>6</th>\n",
       "      <th>7</th>\n",
       "      <th>8</th>\n",
       "      <th>9</th>\n",
       "      <th>...</th>\n",
       "      <th>991</th>\n",
       "      <th>992</th>\n",
       "      <th>993</th>\n",
       "      <th>994</th>\n",
       "      <th>995</th>\n",
       "      <th>996</th>\n",
       "      <th>997</th>\n",
       "      <th>998</th>\n",
       "      <th>999</th>\n",
       "      <th>Clusters</th>\n",
       "    </tr>\n",
       "  </thead>\n",
       "  <tbody>\n",
       "    <tr>\n",
       "      <th>0</th>\n",
       "      <td>-0.961933</td>\n",
       "      <td>-0.292526</td>\n",
       "      <td>0.258788</td>\n",
       "      <td>-1.152132</td>\n",
       "      <td>0.195783</td>\n",
       "      <td>0.030124</td>\n",
       "      <td>0.085418</td>\n",
       "      <td>1.116610</td>\n",
       "      <td>-1.218857</td>\n",
       "      <td>1.267369</td>\n",
       "      <td>...</td>\n",
       "      <td>-0.116171</td>\n",
       "      <td>-1.470146</td>\n",
       "      <td>-0.379272</td>\n",
       "      <td>-1.465006</td>\n",
       "      <td>1.075148</td>\n",
       "      <td>-1.226125</td>\n",
       "      <td>-3.056328</td>\n",
       "      <td>1.450658</td>\n",
       "      <td>0.717977</td>\n",
       "      <td>1</td>\n",
       "    </tr>\n",
       "    <tr>\n",
       "      <th>1</th>\n",
       "      <td>0.441803</td>\n",
       "      <td>-1.139267</td>\n",
       "      <td>-0.972845</td>\n",
       "      <td>-2.213168</td>\n",
       "      <td>0.593306</td>\n",
       "      <td>-0.691014</td>\n",
       "      <td>-1.113054</td>\n",
       "      <td>1.341700</td>\n",
       "      <td>-1.277279</td>\n",
       "      <td>-0.918349</td>\n",
       "      <td>...</td>\n",
       "      <td>-0.162392</td>\n",
       "      <td>-0.633375</td>\n",
       "      <td>-0.895521</td>\n",
       "      <td>2.034465</td>\n",
       "      <td>3.003267</td>\n",
       "      <td>-0.501702</td>\n",
       "      <td>0.449889</td>\n",
       "      <td>1.310348</td>\n",
       "      <td>0.763482</td>\n",
       "      <td>1</td>\n",
       "    </tr>\n",
       "    <tr>\n",
       "      <th>2</th>\n",
       "      <td>-0.975005</td>\n",
       "      <td>0.195837</td>\n",
       "      <td>0.588486</td>\n",
       "      <td>-0.861525</td>\n",
       "      <td>0.282992</td>\n",
       "      <td>-0.403426</td>\n",
       "      <td>-0.677969</td>\n",
       "      <td>0.103278</td>\n",
       "      <td>-0.558925</td>\n",
       "      <td>-1.253500</td>\n",
       "      <td>...</td>\n",
       "      <td>-0.235912</td>\n",
       "      <td>1.446660</td>\n",
       "      <td>-1.127459</td>\n",
       "      <td>0.440849</td>\n",
       "      <td>-0.123441</td>\n",
       "      <td>-0.717430</td>\n",
       "      <td>1.880362</td>\n",
       "      <td>0.383837</td>\n",
       "      <td>0.313576</td>\n",
       "      <td>1</td>\n",
       "    </tr>\n",
       "    <tr>\n",
       "      <th>3</th>\n",
       "      <td>1.417504</td>\n",
       "      <td>-1.281121</td>\n",
       "      <td>-0.800258</td>\n",
       "      <td>0.630925</td>\n",
       "      <td>0.247147</td>\n",
       "      <td>-0.729859</td>\n",
       "      <td>-0.562929</td>\n",
       "      <td>0.390963</td>\n",
       "      <td>-1.344493</td>\n",
       "      <td>-1.067114</td>\n",
       "      <td>...</td>\n",
       "      <td>1.597294</td>\n",
       "      <td>0.737478</td>\n",
       "      <td>-0.631248</td>\n",
       "      <td>-0.530442</td>\n",
       "      <td>-1.036740</td>\n",
       "      <td>-0.169113</td>\n",
       "      <td>-0.742841</td>\n",
       "      <td>-0.408860</td>\n",
       "      <td>-0.326473</td>\n",
       "      <td>1</td>\n",
       "    </tr>\n",
       "    <tr>\n",
       "      <th>4</th>\n",
       "      <td>0.818815</td>\n",
       "      <td>-0.251439</td>\n",
       "      <td>-1.820398</td>\n",
       "      <td>0.951772</td>\n",
       "      <td>1.978668</td>\n",
       "      <td>-0.364099</td>\n",
       "      <td>0.938194</td>\n",
       "      <td>-1.927491</td>\n",
       "      <td>1.159115</td>\n",
       "      <td>-0.240638</td>\n",
       "      <td>...</td>\n",
       "      <td>-0.086946</td>\n",
       "      <td>-0.122342</td>\n",
       "      <td>1.418029</td>\n",
       "      <td>1.075337</td>\n",
       "      <td>-1.270604</td>\n",
       "      <td>0.599530</td>\n",
       "      <td>2.238346</td>\n",
       "      <td>-0.471111</td>\n",
       "      <td>-0.158700</td>\n",
       "      <td>1</td>\n",
       "    </tr>\n",
       "  </tbody>\n",
       "</table>\n",
       "<p>5 rows × 1001 columns</p>\n",
       "</div>"
      ],
      "text/plain": [
       "          0         1         2         3         4         5         6  \\\n",
       "0 -0.961933 -0.292526  0.258788 -1.152132  0.195783  0.030124  0.085418   \n",
       "1  0.441803 -1.139267 -0.972845 -2.213168  0.593306 -0.691014 -1.113054   \n",
       "2 -0.975005  0.195837  0.588486 -0.861525  0.282992 -0.403426 -0.677969   \n",
       "3  1.417504 -1.281121 -0.800258  0.630925  0.247147 -0.729859 -0.562929   \n",
       "4  0.818815 -0.251439 -1.820398  0.951772  1.978668 -0.364099  0.938194   \n",
       "\n",
       "          7         8         9    ...          991       992       993  \\\n",
       "0  1.116610 -1.218857  1.267369    ...    -0.116171 -1.470146 -0.379272   \n",
       "1  1.341700 -1.277279 -0.918349    ...    -0.162392 -0.633375 -0.895521   \n",
       "2  0.103278 -0.558925 -1.253500    ...    -0.235912  1.446660 -1.127459   \n",
       "3  0.390963 -1.344493 -1.067114    ...     1.597294  0.737478 -0.631248   \n",
       "4 -1.927491  1.159115 -0.240638    ...    -0.086946 -0.122342  1.418029   \n",
       "\n",
       "        994       995       996       997       998       999  Clusters  \n",
       "0 -1.465006  1.075148 -1.226125 -3.056328  1.450658  0.717977         1  \n",
       "1  2.034465  3.003267 -0.501702  0.449889  1.310348  0.763482         1  \n",
       "2  0.440849 -0.123441 -0.717430  1.880362  0.383837  0.313576         1  \n",
       "3 -0.530442 -1.036740 -0.169113 -0.742841 -0.408860 -0.326473         1  \n",
       "4  1.075337 -1.270604  0.599530  2.238346 -0.471111 -0.158700         1  \n",
       "\n",
       "[5 rows x 1001 columns]"
      ]
     },
     "execution_count": 95,
     "metadata": {},
     "output_type": "execute_result"
    }
   ],
   "source": [
    "genes.head()"
   ]
  },
  {
   "cell_type": "markdown",
   "metadata": {
    "extensions": {
     "jupyter_dashboards": {
      "version": 1,
      "views": {
       "grid_default": {
        "col": 0,
        "height": 4,
        "hidden": false,
        "row": 13,
        "width": 4
       },
       "report_default": {
        "hidden": false
       }
      }
     }
    }
   },
   "source": [
    "To get an idea of what the data looks like, I created the following 3-dimensional scatter plot. It is clear that there are two distinct groups in the data. "
   ]
  },
  {
   "cell_type": "code",
   "execution_count": 7,
   "metadata": {
    "collapsed": false,
    "extensions": {
     "jupyter_dashboards": {
      "version": 1,
      "views": {
       "grid_default": {
        "col": 4,
        "height": 10,
        "hidden": false,
        "row": 13,
        "width": 4
       },
       "report_default": {
        "hidden": false
       }
      }
     }
    }
   },
   "outputs": [
    {
     "data": {
      "image/png": "[encoded data removed]",
      "text/plain": [
       "<matplotlib.figure.Figure at 0x12c5469bfd0>"
      ]
     },
     "metadata": {},
     "output_type": "display_data"
    }
   ],
   "source": [
    "#PCA \n",
    "pca = PCA(n_components=3,random_state=50)\n",
    "pca.fit(genes.T)\n",
    "pca = pd.DataFrame({'PC1':pca.components_[0],\n",
    "'PC2':pca.components_[1],\n",
    "'PC3':pca.components_[2]})\n",
    "\n",
    "#plot\n",
    "\n",
    "#Colors For 3d Cluster Plot\n",
    "colorsdict = {\n",
    "0: 'r',\n",
    "1: 'g',\n",
    "}\n",
    "\n",
    "fig = plt.figure(figsize=(8,6))\n",
    "ax = fig.add_subplot(111, projection='3d')\n",
    "\n",
    "ax.scatter(pca['PC1'],pca['PC2'],pca['PC3'],\n",
    "alpha = .8,\n",
    "c = 'b')\n",
    "\n",
    "ax.set_title('Genetic Data 3D Plot')\n",
    "ax.set_xlabel('PC 1')\n",
    "ax.set_ylabel('PC 2')\n",
    "ax.set_zlabel('PC 3')\n",
    "\n",
    "ax.view_init(azim= 75, elev=40)"
   ]
  },
  {
   "cell_type": "markdown",
   "metadata": {
    "extensions": {
     "jupyter_dashboards": {
      "version": 1,
      "views": {
       "grid_default": {
        "col": 0,
        "height": 8,
        "hidden": false,
        "row": 23,
        "width": 12
       },
       "report_default": {
        "hidden": false
       }
      }
     }
    }
   },
   "source": [
    "### Kmeans Clustering\n",
    "The first algorithm I will use is Kmeans clustering. This is a technique which is used to find groups of similar points in the data, called clusters. In this example, we know we are looking for two groups, cancerous and not cancerous. The K-Means algortihm is an iterative process where it initializes K (in this case 2) centroids and goes through to detirmine which points are closest to the centroids. The points are grouped by proximity to the centroid. This process is an example of unsupervised learning, since we typically do not know which groups these points belong to prior to clustering. In this case, since we know that the first twenty rows contain healthy patients and the last twenty rows contain patients with cancer, we can determine the accuracy of Kmeans.\n",
    "\n",
    "The 3-dimensional plot below shows the outcome of KMeans clustering on our data. The algorithm returned 100% accuracy of clustering the groups. Red points are part of the diseased group and green points are part of the healthy group."
   ]
  },
  {
   "cell_type": "code",
   "execution_count": 8,
   "metadata": {
    "collapsed": false,
    "extensions": {
     "jupyter_dashboards": {
      "version": 1,
      "views": {
       "grid_default": {
        "col": 8,
        "height": 4,
        "hidden": false,
        "row": 13,
        "width": 4
       },
       "report_default": {
        "hidden": true
       }
      }
     }
    }
   },
   "outputs": [
    {
     "data": {
      "text/plain": [
       "KMeans(algorithm='auto', copy_x=True, init='k-means++', max_iter=300,\n",
       "    n_clusters=2, n_init=10, n_jobs=1, precompute_distances='auto',\n",
       "    random_state=50, tol=0.0001, verbose=0)"
      ]
     },
     "execution_count": 8,
     "metadata": {},
     "output_type": "execute_result"
    }
   ],
   "source": [
    "#Cluster on All\n",
    "clust = KMeans(n_clusters = 2, random_state = 50)\n",
    "clust.fit(genes)"
   ]
  },
  {
   "cell_type": "code",
   "execution_count": 9,
   "metadata": {
    "collapsed": false,
    "extensions": {
     "jupyter_dashboards": {
      "version": 1,
      "views": {
       "grid_default": {
        "col": 0,
        "height": 10,
        "hidden": false,
        "row": 31,
        "width": 4
       },
       "report_default": {
        "hidden": false
       }
      }
     }
    }
   },
   "outputs": [
    {
     "data": {
      "image/png": "[encoded data removed]",
      "text/plain": [
       "<matplotlib.figure.Figure at 0x12c54c356d8>"
      ]
     },
     "metadata": {},
     "output_type": "display_data"
    }
   ],
   "source": [
    "#PCA \n",
    "pca = PCA(n_components=3,random_state=50)\n",
    "pca.fit(genes.T)\n",
    "pca = pd.DataFrame({'PC1':pca.components_[0],\n",
    "'PC2':pca.components_[1],\n",
    "'PC3':pca.components_[2],\n",
    "'Clust':clust.labels_})\n",
    "\n",
    "#plot\n",
    "\n",
    "#Colors For 3d Cluster Plot\n",
    "colorsdict = {\n",
    "0: 'r',\n",
    "1: 'g',\n",
    "}\n",
    "\n",
    "fig = plt.figure(figsize=(8,6))\n",
    "ax = fig.add_subplot(111, projection='3d')\n",
    "\n",
    "ax.scatter(pca['PC1'],pca['PC2'],pca['PC3'],\n",
    "alpha = .8,\n",
    "c = [colorsdict[x] for x in pca['Clust']],)\n",
    "\n",
    "ax.set_title('Cluster Seperation Plot')\n",
    "ax.set_xlabel('PC 1')\n",
    "ax.set_ylabel('PC 2')\n",
    "ax.set_zlabel('PC 3')\n",
    "\n",
    "ax.view_init(azim= 75, elev=40)"
   ]
  },
  {
   "cell_type": "code",
   "execution_count": 11,
   "metadata": {
    "collapsed": true,
    "extensions": {
     "jupyter_dashboards": {
      "version": 1,
      "views": {
       "grid_default": {
        "hidden": true
       },
       "report_default": {
        "hidden": true
       }
      }
     }
    }
   },
   "outputs": [],
   "source": [
    "genes['Clusters'] = clust.labels_"
   ]
  },
  {
   "cell_type": "markdown",
   "metadata": {
    "extensions": {
     "jupyter_dashboards": {
      "version": 1,
      "views": {
       "grid_default": {
        "col": 0,
        "height": 10,
        "hidden": false,
        "row": 41,
        "width": 12
       },
       "report_default": {
        "hidden": false
       }
      }
     }
    }
   },
   "source": [
    "### Non-Linear Models\n",
    "Next, we look at  the following non-linear models:\n",
    "- Decision Tree\n",
    "- Random Forest\n",
    "- Boosted Trees\n",
    "\n",
    "In the execution of these models, I will use two forms of cross validation.\n",
    "- <b>Train Test Split:</b> This is a simple method of validating a model, it involves leaving out a present amount of the data. The model is trained on some data and then prediction accuracy is tested on the data that was left out. In this case 1/4 of the data is left out.<br> \n",
    "- <b>Leave One Out:</b> Runs a train test split using one row as a the test and the rest of the data as training. It iterates through using each row once and generates in this case, 40 seperate accuracy scores. The mean of all of these scores is the cross validated score.<br>"
   ]
  },
  {
   "cell_type": "code",
   "execution_count": 78,
   "metadata": {
    "collapsed": false,
    "extensions": {
     "jupyter_dashboards": {
      "version": 1,
      "views": {
       "grid_default": {
        "hidden": true
       },
       "report_default": {
        "hidden": true
       }
      }
     }
    }
   },
   "outputs": [],
   "source": [
    "#Initialize Cross Validation and Train/Test Split\n",
    "\n",
    "#Set X and y\n",
    "X, y = genes.iloc[:,:-1], genes['Clusters']\n",
    "\n",
    "#Train Test Split\n",
    "X_train, X_test, y_train, y_test = train_test_split(X, y, test_size=0.25, random_state=50)\n",
    "\n",
    "#Initialize Cross-Val\n",
    "loo = LeaveOneOut()"
   ]
  },
  {
   "cell_type": "markdown",
   "metadata": {
    "extensions": {
     "jupyter_dashboards": {
      "version": 1,
      "views": {
       "grid_default": {
        "col": 0,
        "height": 22,
        "hidden": false,
        "row": 51,
        "width": 12
       },
       "report_default": {
        "hidden": false
       }
      }
     }
    }
   },
   "source": [
    "### Decision Tree\n",
    "Decision trees for classification or regression, except, instead of being linear in nature, they form a tree structrure. It does this by breaking the dataset into smaller and smaller partitions and develops a tree. The independent variables can be categorical or continuous. A simple example would be a child deciding if they want to play as shown below.\n",
    "<img src = \"https://media.licdn.com/mpr/mpr/shrinknp_800_800/AAEAAQAAAAAAAAZ5AAAAJGU4MGQyYzM2LTY2ZjgtNGYzYi04NWEyLTVkZGU3ODUxNjljNw.png\"/>\n",
    "\n",
    "The algorithim starts at the top and works its way down using  greedy search through all options. Decision trees can easily overfit data if they are allowed to run deep enough and split every piece of data.\n",
    "\n",
    "Below is a confusion matrix for the results of a decision tree run on the data to determine whether or not a patient has cancer, as we can see, it misclassifies almost a quarter of all patients.\n"
   ]
  },
  {
   "cell_type": "code",
   "execution_count": 1,
   "metadata": {
    "collapsed": false,
    "extensions": {
     "jupyter_dashboards": {
      "version": 1,
      "views": {
       "grid_default": {
        "col": 0,
        "height": 5,
        "hidden": false,
        "row": 17,
        "width": 4
       },
       "report_default": {
        "hidden": false
       }
      }
     }
    }
   },
   "outputs": [
    {
     "ename": "NameError",
     "evalue": "name 'DecisionTreeClassifier' is not defined",
     "output_type": "error",
     "traceback": [
      "\u001b[0;31m---------------------------------------------------------------------------\u001b[0m",
      "\u001b[0;31mNameError\u001b[0m                                 Traceback (most recent call last)",
      "\u001b[0;32m<ipython-input-1-199f13d61034>\u001b[0m in \u001b[0;36m<module>\u001b[0;34m()\u001b[0m\n\u001b[1;32m      1\u001b[0m \u001b[0;31m#Decision Tree - Train Test Split\u001b[0m\u001b[0;34m\u001b[0m\u001b[0;34m\u001b[0m\u001b[0m\n\u001b[0;32m----> 2\u001b[0;31m \u001b[0mclf\u001b[0m \u001b[0;34m=\u001b[0m \u001b[0mDecisionTreeClassifier\u001b[0m\u001b[0;34m(\u001b[0m\u001b[0mrandom_state\u001b[0m\u001b[0;34m=\u001b[0m\u001b[0;36m50\u001b[0m\u001b[0;34m)\u001b[0m\u001b[0;34m\u001b[0m\u001b[0m\n\u001b[0m\u001b[1;32m      3\u001b[0m \u001b[0mclf\u001b[0m\u001b[0;34m.\u001b[0m\u001b[0mfit\u001b[0m\u001b[0;34m(\u001b[0m\u001b[0mX_train\u001b[0m\u001b[0;34m,\u001b[0m \u001b[0my_train\u001b[0m\u001b[0;34m)\u001b[0m\u001b[0;34m\u001b[0m\u001b[0m\n\u001b[1;32m      4\u001b[0m \u001b[0mclf_pred\u001b[0m \u001b[0;34m=\u001b[0m \u001b[0mclf\u001b[0m\u001b[0;34m.\u001b[0m\u001b[0mpredict\u001b[0m\u001b[0;34m(\u001b[0m\u001b[0mX_test\u001b[0m\u001b[0;34m)\u001b[0m\u001b[0;34m\u001b[0m\u001b[0m\n\u001b[1;32m      5\u001b[0m \u001b[0mconf\u001b[0m \u001b[0;34m=\u001b[0m \u001b[0mpd\u001b[0m\u001b[0;34m.\u001b[0m\u001b[0mDataFrame\u001b[0m\u001b[0;34m(\u001b[0m\u001b[0mconfusion_matrix\u001b[0m\u001b[0;34m(\u001b[0m\u001b[0my_test\u001b[0m\u001b[0;34m,\u001b[0m \u001b[0mclf_pred\u001b[0m\u001b[0;34m)\u001b[0m\u001b[0;34m)\u001b[0m\u001b[0;34m\u001b[0m\u001b[0m\n",
      "\u001b[0;31mNameError\u001b[0m: name 'DecisionTreeClassifier' is not defined"
     ]
    }
   ],
   "source": [
    "#Decision Tree - Train Test Split\n",
    "clf = DecisionTreeClassifier(random_state=50)\n",
    "clf.fit(X_train, y_train)\n",
    "clf_pred = clf.predict(X_test)\n",
    "conf = pd.DataFrame(confusion_matrix(y_test, clf_pred))\n",
    "conf.columns = ['Predicted Cancerous', 'Predicted Healthy']\n",
    "conf.index = ['Actual Cancerous', 'Actual Healthy']\n",
    "conf"
   ]
  },
  {
   "cell_type": "code",
   "execution_count": 80,
   "metadata": {
    "collapsed": false,
    "extensions": {
     "jupyter_dashboards": {
      "version": 1,
      "views": {
       "grid_default": {
        "col": 8,
        "height": 4,
        "hidden": false,
        "row": 17,
        "width": 4
       },
       "report_default": {
        "hidden": false
       }
      }
     }
    }
   },
   "outputs": [
    {
     "name": "stdout",
     "output_type": "stream",
     "text": [
      "Decision Tree Cross Validated Mean Squared Error: 0.225\n",
      "Decision Tree Cross Validated Accuracy: 0.775\n"
     ]
    }
   ],
   "source": [
    "#Decision Tree - Cross Validated\n",
    "print('Decision Tree Cross Validated Mean Squared Error: {}'\n",
    ".format(np.abs(cross_val_score(clf, X, y, cv = loo, scoring = 'neg_mean_squared_error').mean())))\n",
    "print('Decision Tree Cross Validated Accuracy: {}'\n",
    ".format(np.abs(cross_val_score(clf, X, y, cv = loo, scoring = 'accuracy').mean())))"
   ]
  },
  {
   "cell_type": "markdown",
   "metadata": {
    "extensions": {
     "jupyter_dashboards": {
      "version": 1,
      "views": {
       "grid_default": {
        "col": 0,
        "height": 8,
        "hidden": false,
        "row": 73,
        "width": 12
       },
       "report_default": {
        "hidden": false
       }
      }
     }
    }
   },
   "source": [
    "### Random Forest\n",
    "A single decision tree has shortcomings, mainly the concept of overfitting the data and not predicting out of sample data well. The random forest combats this by fitting a large number of decision trees with randomly selected variables and observations. It is known as an ensemble method since it is aggregating a large amount of trees. The random component of it is in its selection of variables and observations. In each tree, the algorithm randomly selects variables, with replacement. This means that if a variable is selected, it is not excluded for future selection. Thus about 2/3 of the data is selected each time. Next, a random subset of variables is selected for each tree. In a random forest, the accuracy of each tree is calculated by checking the misclassifcation of the observations which were not randomly selected, aka the remaining 1/3. This is known as the out of bag error rate.\n",
    "\n",
    "Below is the resulting confusion matrix of a random forest used on this data in order to classify patients. As you can see in this case, it achieved 100% accuracy."
   ]
  },
  {
   "cell_type": "code",
   "execution_count": 147,
   "metadata": {
    "collapsed": false,
    "extensions": {
     "jupyter_dashboards": {
      "version": 1,
      "views": {
       "grid_default": {
        "col": 4,
        "height": 5,
        "hidden": false,
        "row": 31,
        "width": 4
       },
       "report_default": {
        "hidden": false
       }
      }
     }
    }
   },
   "outputs": [
    {
     "data": {
      "text/html": [
       "<div>\n",
       "<table border=\"1\" class=\"dataframe\">\n",
       "  <thead>\n",
       "    <tr style=\"text-align: right;\">\n",
       "      <th></th>\n",
       "      <th>Predicted Cancerous</th>\n",
       "      <th>Predicted Healthy</th>\n",
       "    </tr>\n",
       "  </thead>\n",
       "  <tbody>\n",
       "    <tr>\n",
       "      <th>Actual Cancerous</th>\n",
       "      <td>5</td>\n",
       "      <td>0</td>\n",
       "    </tr>\n",
       "    <tr>\n",
       "      <th>Actual Healthy</th>\n",
       "      <td>0</td>\n",
       "      <td>5</td>\n",
       "    </tr>\n",
       "  </tbody>\n",
       "</table>\n",
       "</div>"
      ],
      "text/plain": [
       "                  Predicted Cancerous  Predicted Healthy\n",
       "Actual Cancerous                    5                  0\n",
       "Actual Healthy                      0                  5"
      ]
     },
     "execution_count": 147,
     "metadata": {},
     "output_type": "execute_result"
    }
   ],
   "source": [
    "#Random Forest - Train Test Split\n",
    "from sklearn.ensemble import RandomForestClassifier\n",
    "rf = RandomForestClassifier(random_state=50)\n",
    "rf.fit(X_train, y_train)\n",
    "rf_pred = rf.predict(X_test)\n",
    "conf = pd.DataFrame(confusion_matrix(y_test, rf_pred))\n",
    "conf.columns = ['Predicted Cancerous', 'Predicted Healthy']\n",
    "conf.index = ['Actual Cancerous', 'Actual Healthy']\n",
    "conf"
   ]
  },
  {
   "cell_type": "code",
   "execution_count": 148,
   "metadata": {
    "collapsed": false,
    "extensions": {
     "jupyter_dashboards": {
      "version": 1,
      "views": {
       "grid_default": {
        "col": 8,
        "height": 4,
        "hidden": false,
        "row": 31,
        "width": 4
       },
       "report_default": {
        "hidden": false
       }
      }
     }
    }
   },
   "outputs": [
    {
     "name": "stdout",
     "output_type": "stream",
     "text": [
      "Random Forest Cross Validated Mean Squared Error: 0.0\n",
      "Random Forest Cross Validated Accuracy: 1.0\n"
     ]
    }
   ],
   "source": [
    "#Random Fores - Cross Validated\n",
    "print('Random Forest Cross Validated Mean Squared Error: {}'\n",
    ".format(np.abs(cross_val_score(rf, X, y, cv = loo, scoring = 'neg_mean_squared_error').mean())))\n",
    "print('Random Forest Cross Validated Accuracy: {}'\n",
    ".format(np.abs(cross_val_score(rf, X, y, cv = loo, scoring = 'accuracy').mean())))"
   ]
  },
  {
   "cell_type": "markdown",
   "metadata": {
    "extensions": {
     "jupyter_dashboards": {
      "version": 1,
      "views": {
       "grid_default": {
        "col": 0,
        "height": 10,
        "hidden": false,
        "row": 81,
        "width": 12
       },
       "report_default": {
        "hidden": false
       }
      }
     }
    }
   },
   "source": [
    "### Adaptive Boosting\n",
    "In general terms, boosting is an ensemble method similar to random forest, however, it grows many simple decision trees (weak learners) and each successive tree is created for the prediction errors of the previous tree. The adaptive boosting algorithm used below uses the following progression:\n",
    "1. Start with a small tree, which isn't a very strong predictor.\n",
    "2. Create a second tree to predict the residuals from the first.\n",
    "3. Find the residual values of first two trees combined and fit third tree to predict those values.\n",
    "4. Any observations which are incorrect are weighted more heavily in the next iteration. \n",
    "5. Classifiers which are accurate predictors recieve more weight and ones which are not accurate predictors recieve less weight in the final model.\n",
    "6. The output of the model is a weighted average of all the decision trees.\n",
    "\n",
    "As shown below in this example, this method produced 100% accuracy."
   ]
  },
  {
   "cell_type": "code",
   "execution_count": 137,
   "metadata": {
    "collapsed": false,
    "extensions": {
     "jupyter_dashboards": {
      "version": 1,
      "views": {
       "grid_default": {
        "col": 8,
        "height": 5,
        "hidden": false,
        "row": 35,
        "width": 4
       },
       "report_default": {
        "hidden": false
       }
      }
     }
    }
   },
   "outputs": [
    {
     "data": {
      "text/html": [
       "<div>\n",
       "<table border=\"1\" class=\"dataframe\">\n",
       "  <thead>\n",
       "    <tr style=\"text-align: right;\">\n",
       "      <th></th>\n",
       "      <th>Predicted Cancerous</th>\n",
       "      <th>Predicted Healthy</th>\n",
       "    </tr>\n",
       "  </thead>\n",
       "  <tbody>\n",
       "    <tr>\n",
       "      <th>Actual Cancerous</th>\n",
       "      <td>5</td>\n",
       "      <td>0</td>\n",
       "    </tr>\n",
       "    <tr>\n",
       "      <th>Actual Healthy</th>\n",
       "      <td>0</td>\n",
       "      <td>5</td>\n",
       "    </tr>\n",
       "  </tbody>\n",
       "</table>\n",
       "</div>"
      ],
      "text/plain": [
       "                  Predicted Cancerous  Predicted Healthy\n",
       "Actual Cancerous                    5                  0\n",
       "Actual Healthy                      0                  5"
      ]
     },
     "execution_count": 137,
     "metadata": {},
     "output_type": "execute_result"
    }
   ],
   "source": [
    "#ADA Boost - Train Test Split\n",
    "ada = AdaBoostClassifier(random_state=50)\n",
    "ada.fit(X_train, y_train)\n",
    "ada_pred = ada.predict(X_test)\n",
    "conf = pd.DataFrame(confusion_matrix(y_test, rf_pred))\n",
    "conf.columns = ['Predicted Cancerous', 'Predicted Healthy']\n",
    "conf.index = ['Actual Cancerous', 'Actual Healthy']\n",
    "conf"
   ]
  },
  {
   "cell_type": "code",
   "execution_count": 84,
   "metadata": {
    "collapsed": false,
    "extensions": {
     "jupyter_dashboards": {
      "version": 1,
      "views": {
       "grid_default": {
        "col": 4,
        "height": 4,
        "hidden": false,
        "row": 36,
        "width": 4
       },
       "report_default": {
        "hidden": false
       }
      }
     }
    }
   },
   "outputs": [
    {
     "name": "stdout",
     "output_type": "stream",
     "text": [
      "AdaBoost Cross Validated Mean Squared Error: 0.0\n",
      "AdaBoost Cross Validated Accuracy: 1.0\n"
     ]
    }
   ],
   "source": [
    "#Ada Boost - Cross Validated\n",
    "print('AdaBoost Cross Validated Mean Squared Error: {}'\n",
    ".format(np.abs(cross_val_score(rf, X, y, cv = loo, scoring = 'neg_mean_squared_error').mean())))\n",
    "print('AdaBoost Cross Validated Accuracy: {}'\n",
    ".format(np.abs(cross_val_score(rf, X, y, cv = loo, scoring = 'accuracy').mean())))"
   ]
  },
  {
   "cell_type": "markdown",
   "metadata": {
    "extensions": {
     "jupyter_dashboards": {
      "version": 1,
      "views": {
       "grid_default": {
        "col": 0,
        "height": 8,
        "hidden": false,
        "row": 91,
        "width": 12
       },
       "report_default": {
        "hidden": false
       }
      }
     }
    }
   },
   "source": [
    "### Linear Models\n",
    "Next, we look at  the following linear models:\n",
    "- Logistic Regression\n",
    "- Ridge Regression\n",
    "- Lasso\n",
    "- ElasticNet\n",
    "\n",
    "In the execution of these models, I will use the same two forms of cross validation as used above."
   ]
  },
  {
   "cell_type": "markdown",
   "metadata": {
    "extensions": {
     "jupyter_dashboards": {
      "version": 1,
      "views": {
       "grid_default": {
        "col": 0,
        "height": 5,
        "hidden": false,
        "row": 99,
        "width": 12
       },
       "report_default": {
        "hidden": false
       }
      }
     }
    }
   },
   "source": [
    "### Logistic Regression\n",
    "\n",
    "A logistic regression a for of an ordinary least squares linear regression where. Except, the dependent variable is a binary categorical variable, either 0 or 1. The function assigns weights to each variable and produces an output of a decimal between zero and one. Rounding it to the nearest digit yields the classification. <br>\n",
    "The following table shows a confusion matrix for the logistic regression run with all variables available on the test data after training the model. Additionally, I used Leave One Out cross validation to compute the Mean Squared Error and Accuracy. "
   ]
  },
  {
   "cell_type": "code",
   "execution_count": 107,
   "metadata": {
    "collapsed": false,
    "extensions": {
     "jupyter_dashboards": {
      "version": 1,
      "views": {
       "grid_default": {
        "col": 0,
        "height": 5,
        "hidden": false,
        "row": 104,
        "width": 4
       },
       "report_default": {
        "hidden": false
       }
      }
     }
    }
   },
   "outputs": [
    {
     "data": {
      "text/html": [
       "<div>\n",
       "<table border=\"1\" class=\"dataframe\">\n",
       "  <thead>\n",
       "    <tr style=\"text-align: right;\">\n",
       "      <th></th>\n",
       "      <th>Predicted Cancerous</th>\n",
       "      <th>Predicted Healthy</th>\n",
       "    </tr>\n",
       "  </thead>\n",
       "  <tbody>\n",
       "    <tr>\n",
       "      <th>Actual Cancerous</th>\n",
       "      <td>5</td>\n",
       "      <td>0</td>\n",
       "    </tr>\n",
       "    <tr>\n",
       "      <th>Actual Healthy</th>\n",
       "      <td>5</td>\n",
       "      <td>0</td>\n",
       "    </tr>\n",
       "  </tbody>\n",
       "</table>\n",
       "</div>"
      ],
      "text/plain": [
       "                  Predicted Cancerous  Predicted Healthy\n",
       "Actual Cancerous                    5                  0\n",
       "Actual Healthy                      5                  0"
      ]
     },
     "execution_count": 107,
     "metadata": {},
     "output_type": "execute_result"
    }
   ],
   "source": [
    "#logistic Regression\n",
    "lr = LogisticRegression()\n",
    "lr.fit(X_train, y_train)\n",
    "lr_pred = lr.predict(X_test)\n",
    "conf = pd.DataFrame(confusion_matrix(y_test, lr_pred))\n",
    "conf.columns = ['Predicted Cancerous', 'Predicted Healthy']\n",
    "conf.index = ['Actual Cancerous', 'Actual Healthy']\n",
    "conf"
   ]
  },
  {
   "cell_type": "code",
   "execution_count": 108,
   "metadata": {
    "collapsed": false,
    "extensions": {
     "jupyter_dashboards": {
      "version": 1,
      "views": {
       "grid_default": {
        "col": 4,
        "height": 4,
        "hidden": false,
        "row": 104,
        "width": 4
       },
       "report_default": {
        "hidden": false
       }
      }
     }
    }
   },
   "outputs": [
    {
     "name": "stdout",
     "output_type": "stream",
     "text": [
      "Logistic Regression Cross Validated Mean Squared Error: 0.4\n",
      "Logistic Regression Cross Validated Accuracy: 0.6\n"
     ]
    }
   ],
   "source": [
    "#Logistic Regression - Cross Validated\n",
    "print('Logistic Regression Cross Validated Mean Squared Error: {}'\n",
    ".format(np.abs(cross_val_score(lr, X, y, cv = loo, scoring = 'neg_mean_squared_error').mean())))\n",
    "print('Logistic Regression Cross Validated Accuracy: {}'\n",
    ".format(np.abs(cross_val_score(lr, X, y, cv = loo, scoring = 'accuracy').mean())))"
   ]
  },
  {
   "cell_type": "markdown",
   "metadata": {
    "extensions": {
     "jupyter_dashboards": {
      "version": 1,
      "views": {
       "grid_default": {
        "col": 0,
        "height": 39,
        "hidden": false,
        "row": 109,
        "width": 12
       },
       "report_default": {
        "hidden": false
       }
      }
     }
    }
   },
   "source": [
    "### Ridge Regression\n",
    "This is a different type of a linear model that applies a penalty to shrink the coefficients toward zero. In reducing the beta vector there is a variance-bias-tradeoff depicted below:\n",
    "<img src = \"http://www.kdnuggets.com/wp-content/uploads/bias-and-variance.jpg\"/>\n",
    "\n",
    "\n",
    "\n",
    "<b>Variance:</b> is error from sensitivity to small fluctuations in the training set. High variance can cause overfitting, the modeling the random noise in the training data, rather than the intended outputs.\n",
    "\n",
    "<b>Bias:</b> is error from erroneous assumptions in the learning algorithm. High bias can cause an algorithm to miss the relevant relations between features and target outputs (underfitting).\n",
    "\n",
    "The penalty of the betas is the l2 penalty (sum of betas squared). A tuning parameter lambda is used to tune the model in order to penalize the Betas as little as possible.\n",
    "<img src=\"http://businessforecastblog.com/wp-content/uploads/2014/05/ridgeregressionOF.png\"/>\n",
    "\n",
    "<b>Bottom Line:</b>\n",
    "\n",
    "It is mainly used to prevent overfitting. Since it includes all the features, it is not very useful in case of exorbitantly high number of features, say in millions, as it will pose computational challenges.\n",
    "\n",
    "It generally works well even in presence of highly correlated features as it will include all of them in the model but the coefficients will be distributed among them depending on the correlation.\n",
    "\n",
    "In the case of this example, we see that ridge regression was able to get 100% accuracy in both our train/test split and our cross validation, as depicted below."
   ]
  },
  {
   "cell_type": "code",
   "execution_count": 111,
   "metadata": {
    "collapsed": false,
    "extensions": {
     "jupyter_dashboards": {
      "version": 1,
      "views": {
       "grid_default": {
        "col": 8,
        "height": 5,
        "hidden": false,
        "row": 104,
        "width": 4
       },
       "report_default": {
        "hidden": false
       }
      }
     }
    }
   },
   "outputs": [
    {
     "data": {
      "text/html": [
       "<div>\n",
       "<table border=\"1\" class=\"dataframe\">\n",
       "  <thead>\n",
       "    <tr style=\"text-align: right;\">\n",
       "      <th></th>\n",
       "      <th>Predicted Cancerous</th>\n",
       "      <th>Predicted Healthy</th>\n",
       "    </tr>\n",
       "  </thead>\n",
       "  <tbody>\n",
       "    <tr>\n",
       "      <th>Actual Cancerous</th>\n",
       "      <td>5</td>\n",
       "      <td>0</td>\n",
       "    </tr>\n",
       "    <tr>\n",
       "      <th>Actual Healthy</th>\n",
       "      <td>0</td>\n",
       "      <td>5</td>\n",
       "    </tr>\n",
       "  </tbody>\n",
       "</table>\n",
       "</div>"
      ],
      "text/plain": [
       "                  Predicted Cancerous  Predicted Healthy\n",
       "Actual Cancerous                    5                  0\n",
       "Actual Healthy                      0                  5"
      ]
     },
     "execution_count": 111,
     "metadata": {},
     "output_type": "execute_result"
    }
   ],
   "source": [
    "#Ridge\n",
    "ridge = RidgeClassifier(alpha = 0.1)\n",
    "ridge.fit(X_train, y_train)\n",
    "ridge_pred = ridge.predict(X_test)\n",
    "conf = pd.DataFrame(confusion_matrix(y_test, ridge_pred))\n",
    "conf.columns = ['Predicted Cancerous', 'Predicted Healthy']\n",
    "conf.index = ['Actual Cancerous', 'Actual Healthy']\n",
    "conf"
   ]
  },
  {
   "cell_type": "code",
   "execution_count": 112,
   "metadata": {
    "collapsed": false,
    "extensions": {
     "jupyter_dashboards": {
      "version": 1,
      "views": {
       "grid_default": {
        "col": 0,
        "height": 4,
        "hidden": false,
        "row": 148,
        "width": 4
       },
       "report_default": {
        "hidden": false
       }
      }
     }
    }
   },
   "outputs": [
    {
     "name": "stdout",
     "output_type": "stream",
     "text": [
      "Ridge Regression Cross Validated Mean Squared Error: 0.0\n",
      "Ridge Regression Cross Validated Accuracy: 1.0\n"
     ]
    }
   ],
   "source": [
    "#Ridge Regression - Cross Validated\n",
    "print('Ridge Regression Cross Validated Mean Squared Error: {}'\n",
    ".format(np.abs(cross_val_score(ridge, X, y, cv = loo, scoring = 'neg_mean_squared_error').mean())))\n",
    "print('Ridge Regression Cross Validated Accuracy: {}'\n",
    ".format(np.abs(cross_val_score(ridge, X, y, cv = loo, scoring = 'accuracy').mean())))"
   ]
  },
  {
   "cell_type": "markdown",
   "metadata": {
    "extensions": {
     "jupyter_dashboards": {
      "version": 1,
      "views": {
       "grid_default": {
        "col": 0,
        "height": 23,
        "hidden": false,
        "row": 152,
        "width": 12
       },
       "report_default": {
        "hidden": false
       }
      }
     }
    }
   },
   "source": [
    "### Lasso\n",
    "Lasso performs the same function as the Ridge regression, however the penalty is different, in this one, it is the l1 penalty, which is the (Sum of Absolute Value of Betas). This forces some of the independent variables to zero. Aka eliminates them from the model. \n",
    "\n",
    "A limitation of this method is that if p>n aka there are more variables than samples, it can only use an equal or lower amount of variables. It will not allow there to be more samples than variables. This is a major disadvantage in fields like genomics because the number of genes that can be regressed is limited by the number of samples. However, in this case, we hope it will narrow down to specific fatores in the genes that predict cancer in patients.\n",
    "\n",
    "Objective = RSS + α * (sum of absolute value of coefficients)\n",
    "\n",
    "<img src=\"https://www.analyticsvidhya.com/wp-content/uploads/2016/01/eq8-1.png\"/>\n",
    "\n",
    "<b>Bottom Line:</b>\n",
    "\n",
    "Since it provides sparse solutions, it is generally the model of choice for modelling cases where the number of features are in millions or more. In such a case, getting a sparse solution is of great computational advantage as the features with zero coefficients can be ignored.\n",
    "\n",
    "Its not hard to see why the stepwise selection techniques become \\very cumbersome to implement in high dimensionality cases. Thus, lasso provides a significant advantage.\n",
    "\n",
    "It arbitrarily selects any one feature among the highly correlated ones and reduced the coefficients of the rest to zero. Also, the chosen variable changes randomly with change in model parameters. This generally doesn’t work that well as compared to ridge regression.\n",
    "\n",
    "This disadvantage of lasso can be observed in the example we discussed above. In highly correlated data, we see that even small values of alpha give significant sparsity (i.e. high number coefficients as zero). \n",
    "\n",
    "In the case of this example, it predicts with 100% accuracy."
   ]
  },
  {
   "cell_type": "code",
   "execution_count": 126,
   "metadata": {
    "collapsed": false,
    "extensions": {
     "jupyter_dashboards": {
      "version": 1,
      "views": {
       "grid_default": {
        "col": 0,
        "height": 5,
        "hidden": false,
        "row": 175,
        "width": 4
       },
       "report_default": {
        "hidden": false
       }
      }
     }
    }
   },
   "outputs": [
    {
     "data": {
      "text/html": [
       "<div>\n",
       "<table border=\"1\" class=\"dataframe\">\n",
       "  <thead>\n",
       "    <tr style=\"text-align: right;\">\n",
       "      <th></th>\n",
       "      <th>Predicted Cancerous</th>\n",
       "      <th>Predicted Healthy</th>\n",
       "    </tr>\n",
       "  </thead>\n",
       "  <tbody>\n",
       "    <tr>\n",
       "      <th>Actual Cancerous</th>\n",
       "      <td>5</td>\n",
       "      <td>0</td>\n",
       "    </tr>\n",
       "    <tr>\n",
       "      <th>Actual Healthy</th>\n",
       "      <td>0</td>\n",
       "      <td>5</td>\n",
       "    </tr>\n",
       "  </tbody>\n",
       "</table>\n",
       "</div>"
      ],
      "text/plain": [
       "                  Predicted Cancerous  Predicted Healthy\n",
       "Actual Cancerous                    5                  0\n",
       "Actual Healthy                      0                  5"
      ]
     },
     "execution_count": 126,
     "metadata": {},
     "output_type": "execute_result"
    }
   ],
   "source": [
    "# Lasso \n",
    "lasso = LassoCV(alphas=[0.1], cv = None)\n",
    "lasso.fit(X_train,y_train)\n",
    "lasso_pred = lasso.predict(X_test)\n",
    "conf = pd.DataFrame(confusion_matrix(y_test, lasso_pred.round()))\n",
    "conf.columns = ['Predicted Cancerous', 'Predicted Healthy']\n",
    "conf.index = ['Actual Cancerous', 'Actual Healthy']\n",
    "conf"
   ]
  },
  {
   "cell_type": "code",
   "execution_count": 90,
   "metadata": {
    "collapsed": false,
    "extensions": {
     "jupyter_dashboards": {
      "version": 1,
      "views": {
       "grid_default": {
        "col": 4,
        "height": 4,
        "hidden": false,
        "row": 148,
        "width": 4
       },
       "report_default": {
        "hidden": false
       }
      }
     }
    }
   },
   "outputs": [
    {
     "name": "stdout",
     "output_type": "stream",
     "text": [
      "Lasso Cross Validated Mean Squared Error: 0.033162830147279374\n"
     ]
    }
   ],
   "source": [
    "#Lasso - Cross Validated\n",
    "lasso = LassoCV(alphas=[0.1], cv = loo)\n",
    "lasso.fit(X,y)\n",
    "print('Lasso Cross Validated Mean Squared Error: {}'\n",
    ".format(lasso.mse_path_.mean()))"
   ]
  },
  {
   "cell_type": "markdown",
   "metadata": {
    "extensions": {
     "jupyter_dashboards": {
      "version": 1,
      "views": {
       "grid_default": {
        "col": 8,
        "height": 4,
        "hidden": false,
        "row": 148,
        "width": 4
       },
       "report_default": {
        "hidden": false
       }
      }
     }
    }
   },
   "source": [
    "Below I have listed the Lasso coefficients that have not been zeroed. The algorithm kept 19 variables as the ones it found important to classify patients with cancer."
   ]
  },
  {
   "cell_type": "code",
   "execution_count": 125,
   "metadata": {
    "collapsed": false,
    "extensions": {
     "jupyter_dashboards": {
      "version": 1,
      "views": {
       "grid_default": {
        "col": 4,
        "height": 20,
        "hidden": false,
        "row": 175,
        "width": 4
       },
       "report_default": {
        "hidden": false
       }
      }
     }
    }
   },
   "outputs": [
    {
     "data": {
      "text/html": [
       "<div>\n",
       "<table border=\"1\" class=\"dataframe\">\n",
       "  <thead>\n",
       "    <tr style=\"text-align: right;\">\n",
       "      <th></th>\n",
       "      <th>Lasso Variables Used</th>\n",
       "    </tr>\n",
       "  </thead>\n",
       "  <tbody>\n",
       "    <tr>\n",
       "      <th>501</th>\n",
       "      <td>-0.068024</td>\n",
       "    </tr>\n",
       "    <tr>\n",
       "      <th>592</th>\n",
       "      <td>-0.050167</td>\n",
       "    </tr>\n",
       "    <tr>\n",
       "      <th>598</th>\n",
       "      <td>-0.036151</td>\n",
       "    </tr>\n",
       "    <tr>\n",
       "      <th>599</th>\n",
       "      <td>-0.034991</td>\n",
       "    </tr>\n",
       "    <tr>\n",
       "      <th>583</th>\n",
       "      <td>-0.023773</td>\n",
       "    </tr>\n",
       "    <tr>\n",
       "      <th>535</th>\n",
       "      <td>-0.020728</td>\n",
       "    </tr>\n",
       "    <tr>\n",
       "      <th>548</th>\n",
       "      <td>-0.015815</td>\n",
       "    </tr>\n",
       "    <tr>\n",
       "      <th>561</th>\n",
       "      <td>-0.012308</td>\n",
       "    </tr>\n",
       "    <tr>\n",
       "      <th>567</th>\n",
       "      <td>-0.010019</td>\n",
       "    </tr>\n",
       "    <tr>\n",
       "      <th>11</th>\n",
       "      <td>-0.006720</td>\n",
       "    </tr>\n",
       "    <tr>\n",
       "      <th>559</th>\n",
       "      <td>-0.006600</td>\n",
       "    </tr>\n",
       "    <tr>\n",
       "      <th>574</th>\n",
       "      <td>-0.006403</td>\n",
       "    </tr>\n",
       "    <tr>\n",
       "      <th>585</th>\n",
       "      <td>-0.006178</td>\n",
       "    </tr>\n",
       "    <tr>\n",
       "      <th>553</th>\n",
       "      <td>-0.005507</td>\n",
       "    </tr>\n",
       "    <tr>\n",
       "      <th>528</th>\n",
       "      <td>-0.004517</td>\n",
       "    </tr>\n",
       "    <tr>\n",
       "      <th>581</th>\n",
       "      <td>-0.003133</td>\n",
       "    </tr>\n",
       "    <tr>\n",
       "      <th>12</th>\n",
       "      <td>-0.002400</td>\n",
       "    </tr>\n",
       "    <tr>\n",
       "      <th>512</th>\n",
       "      <td>-0.001576</td>\n",
       "    </tr>\n",
       "    <tr>\n",
       "      <th>510</th>\n",
       "      <td>-0.001201</td>\n",
       "    </tr>\n",
       "  </tbody>\n",
       "</table>\n",
       "</div>"
      ],
      "text/plain": [
       "     Lasso Variables Used\n",
       "501             -0.068024\n",
       "592             -0.050167\n",
       "598             -0.036151\n",
       "599             -0.034991\n",
       "583             -0.023773\n",
       "535             -0.020728\n",
       "548             -0.015815\n",
       "561             -0.012308\n",
       "567             -0.010019\n",
       "11              -0.006720\n",
       "559             -0.006600\n",
       "574             -0.006403\n",
       "585             -0.006178\n",
       "553             -0.005507\n",
       "528             -0.004517\n",
       "581             -0.003133\n",
       "12              -0.002400\n",
       "512             -0.001576\n",
       "510             -0.001201"
      ]
     },
     "execution_count": 125,
     "metadata": {},
     "output_type": "execute_result"
    }
   ],
   "source": [
    "lasso_imp = pd.DataFrame(lasso.coef_).sort_values(by=0)[:19]\n",
    "lasso_imp.columns = ['Lasso Variables Used']\n",
    "lasso_imp"
   ]
  },
  {
   "cell_type": "markdown",
   "metadata": {
    "extensions": {
     "jupyter_dashboards": {
      "version": 1,
      "views": {
       "grid_default": {
        "col": 0,
        "height": 30,
        "hidden": false,
        "row": 195,
        "width": 12
       },
       "report_default": {
        "hidden": false
       }
      }
     }
    }
   },
   "source": [
    "### Elastic Net\n",
    "Elastic Net is another useful techniques which combines both L1 and L2 regularization. It can be used to balance out the pros and cons of ridge and lasso regression. It uses both penalties in the error measurement. If L1 is zeroed it becomes ridge and if L2 becomes zeroed it becomes lasso. Otherwise, it is a mix of the two. \n",
    "\n",
    "The graphic below shows how the three different algorithms arrive at an answer, ridge is on the outside, lasso is on the inside and elastic net is in the middle. As it is a combination of both of them. \n",
    "\n",
    "<img src=\"https://pbs.twimg.com/media/CBII7zYUUAEfDuL.png:large\"/>\n",
    "\n",
    "As with both Ridge and Lasso, Elastic Net got 100% accuracy in the train/test split. "
   ]
  },
  {
   "cell_type": "code",
   "execution_count": 135,
   "metadata": {
    "collapsed": false,
    "extensions": {
     "jupyter_dashboards": {
      "version": 1,
      "views": {
       "grid_default": {
        "col": 8,
        "height": 5,
        "hidden": false,
        "row": 175,
        "width": 4
       },
       "report_default": {
        "hidden": false
       }
      }
     }
    }
   },
   "outputs": [
    {
     "data": {
      "text/html": [
       "<div>\n",
       "<table border=\"1\" class=\"dataframe\">\n",
       "  <thead>\n",
       "    <tr style=\"text-align: right;\">\n",
       "      <th></th>\n",
       "      <th>Predicted Cancerous</th>\n",
       "      <th>Predicted Healthy</th>\n",
       "    </tr>\n",
       "  </thead>\n",
       "  <tbody>\n",
       "    <tr>\n",
       "      <th>Actual Cancerous</th>\n",
       "      <td>5</td>\n",
       "      <td>0</td>\n",
       "    </tr>\n",
       "    <tr>\n",
       "      <th>Actual Healthy</th>\n",
       "      <td>0</td>\n",
       "      <td>5</td>\n",
       "    </tr>\n",
       "  </tbody>\n",
       "</table>\n",
       "</div>"
      ],
      "text/plain": [
       "                  Predicted Cancerous  Predicted Healthy\n",
       "Actual Cancerous                    5                  0\n",
       "Actual Healthy                      0                  5"
      ]
     },
     "execution_count": 135,
     "metadata": {},
     "output_type": "execute_result"
    }
   ],
   "source": [
    "# Elastic Net \n",
    "elastic = ElasticNetCV(alphas=[0.1], cv = None)\n",
    "elastic.fit(X_train,y_train)\n",
    "elastic_pred = elastic.predict(X_test)\n",
    "conf = pd.DataFrame(confusion_matrix(y_test, elastic_pred.round()))\n",
    "conf.columns = ['Predicted Cancerous', 'Predicted Healthy']\n",
    "conf.index = ['Actual Cancerous', 'Actual Healthy']\n",
    "conf"
   ]
  },
  {
   "cell_type": "code",
   "execution_count": 136,
   "metadata": {
    "collapsed": false,
    "extensions": {
     "jupyter_dashboards": {
      "version": 1,
      "views": {
       "grid_default": {
        "col": 0,
        "height": 4,
        "hidden": false,
        "row": 180,
        "width": 4
       },
       "report_default": {
        "hidden": false
       }
      }
     }
    }
   },
   "outputs": [
    {
     "name": "stdout",
     "output_type": "stream",
     "text": [
      "Elastic Net Cross Validated Mean Squared Error: 0.019902046696543572\n"
     ]
    }
   ],
   "source": [
    "#Elastic Net - Cross Validated\n",
    "elastic = ElasticNetCV(alphas=[0.1], cv = loo)\n",
    "elastic.fit(X,y)\n",
    "print('Elastic Net Cross Validated Mean Squared Error: {}'\n",
    ".format(elastic.mse_path_.mean()))"
   ]
  },
  {
   "cell_type": "markdown",
   "metadata": {
    "extensions": {
     "jupyter_dashboards": {
      "version": 1,
      "views": {
       "grid_default": {
        "col": 0,
        "height": 5,
        "hidden": false,
        "row": 225,
        "width": 12
       },
       "report_default": {
        "hidden": false
       }
      }
     }
    }
   },
   "source": [
    "## Most Important Variables\n",
    "To get an idea of what variables are most important in determining wheter a patient has cancer, we can look at the weights assigned to individual variables during the Adaboost algorithm. The higher the number, the more importance. The table below shows the 17 columns which did not have a weight of zero. These columns are the best predictors of whether or not a patient has cancer."
   ]
  },
  {
   "cell_type": "code",
   "execution_count": 152,
   "metadata": {
    "collapsed": false,
    "extensions": {
     "jupyter_dashboards": {
      "version": 1,
      "views": {
       "grid_default": {
        "col": 0,
        "height": 18,
        "hidden": false,
        "row": 230,
        "width": 4
       },
       "report_default": {
        "hidden": false
       }
      }
     }
    }
   },
   "outputs": [
    {
     "data": {
      "text/html": [
       "<div>\n",
       "<table border=\"1\" class=\"dataframe\">\n",
       "  <thead>\n",
       "    <tr style=\"text-align: right;\">\n",
       "      <th></th>\n",
       "      <th>Feature Importance</th>\n",
       "    </tr>\n",
       "  </thead>\n",
       "  <tbody>\n",
       "    <tr>\n",
       "      <th>588</th>\n",
       "      <td>0.18</td>\n",
       "    </tr>\n",
       "    <tr>\n",
       "      <th>534</th>\n",
       "      <td>0.14</td>\n",
       "    </tr>\n",
       "    <tr>\n",
       "      <th>10</th>\n",
       "      <td>0.12</td>\n",
       "    </tr>\n",
       "    <tr>\n",
       "      <th>569</th>\n",
       "      <td>0.12</td>\n",
       "    </tr>\n",
       "    <tr>\n",
       "      <th>560</th>\n",
       "      <td>0.06</td>\n",
       "    </tr>\n",
       "    <tr>\n",
       "      <th>564</th>\n",
       "      <td>0.06</td>\n",
       "    </tr>\n",
       "    <tr>\n",
       "      <th>535</th>\n",
       "      <td>0.04</td>\n",
       "    </tr>\n",
       "    <tr>\n",
       "      <th>544</th>\n",
       "      <td>0.04</td>\n",
       "    </tr>\n",
       "    <tr>\n",
       "      <th>587</th>\n",
       "      <td>0.04</td>\n",
       "    </tr>\n",
       "    <tr>\n",
       "      <th>12</th>\n",
       "      <td>0.04</td>\n",
       "    </tr>\n",
       "    <tr>\n",
       "      <th>599</th>\n",
       "      <td>0.04</td>\n",
       "    </tr>\n",
       "    <tr>\n",
       "      <th>591</th>\n",
       "      <td>0.02</td>\n",
       "    </tr>\n",
       "    <tr>\n",
       "      <th>501</th>\n",
       "      <td>0.02</td>\n",
       "    </tr>\n",
       "    <tr>\n",
       "      <th>545</th>\n",
       "      <td>0.02</td>\n",
       "    </tr>\n",
       "    <tr>\n",
       "      <th>568</th>\n",
       "      <td>0.02</td>\n",
       "    </tr>\n",
       "    <tr>\n",
       "      <th>527</th>\n",
       "      <td>0.02</td>\n",
       "    </tr>\n",
       "    <tr>\n",
       "      <th>551</th>\n",
       "      <td>0.02</td>\n",
       "    </tr>\n",
       "  </tbody>\n",
       "</table>\n",
       "</div>"
      ],
      "text/plain": [
       "     Feature Importance\n",
       "588                0.18\n",
       "534                0.14\n",
       "10                 0.12\n",
       "569                0.12\n",
       "560                0.06\n",
       "564                0.06\n",
       "535                0.04\n",
       "544                0.04\n",
       "587                0.04\n",
       "12                 0.04\n",
       "599                0.04\n",
       "591                0.02\n",
       "501                0.02\n",
       "545                0.02\n",
       "568                0.02\n",
       "527                0.02\n",
       "551                0.02"
      ]
     },
     "execution_count": 152,
     "metadata": {},
     "output_type": "execute_result"
    }
   ],
   "source": [
    "#Adaboost find important features\n",
    "ada = AdaBoostClassifier(random_state = 50)\n",
    "ada.fit(X,y)\n",
    "feature_importances = pd.DataFrame(ada.feature_importances_).rename(columns={0:'Feature Importance'})\n",
    "feature_importances.sort_values(by = 'Feature Importance', ascending = False).head(17)"
   ]
  }
 ],
 "metadata": {
  "anaconda-cloud": {},
  "extensions": {
   "jupyter_dashboards": {
    "activeView": "report_default",
    "version": 1,
    "views": {
     "grid_default": {
      "cellMargin": 10,
      "defaultCellHeight": 20,
      "maxColumns": 12,
      "name": "grid",
      "type": "grid"
     },
     "report_default": {
      "name": "report",
      "type": "report"
     }
    }
   }
  },
  "kernelspec": {
   "display_name": "Python [default]",
   "language": "python",
   "name": "python3"
  },
  "language_info": {
   "codemirror_mode": {
    "name": "ipython",
    "version": 3
   },
   "file_extension": ".py",
   "mimetype": "text/x-python",
   "name": "python",
   "nbconvert_exporter": "python",
   "pygments_lexer": "ipython3",
   "version": "3.5.1"
  }
 },
 "nbformat": 4,
 "nbformat_minor": 0
}
